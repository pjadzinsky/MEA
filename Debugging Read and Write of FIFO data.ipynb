{
 "cells": [
  {
   "cell_type": "code",
   "execution_count": 35,
   "metadata": {
    "collapsed": true
   },
   "outputs": [],
   "source": [
    "import meaRecording\n",
    "import interleaved_to_chunk as i2c\n",
    "import pdb"
   ]
  },
  {
   "cell_type": "code",
   "execution_count": 2,
   "metadata": {
    "collapsed": true
   },
   "outputs": [],
   "source": [
    "mea = meaRecording.MEA('Default.bin')"
   ]
  },
  {
   "cell_type": "code",
   "execution_count": 3,
   "metadata": {
    "collapsed": true
   },
   "outputs": [],
   "source": [
    "fid = open('150326_FIFO', 'rb')"
   ]
  },
  {
   "cell_type": "code",
   "execution_count": 4,
   "metadata": {
    "collapsed": true
   },
   "outputs": [],
   "source": [
    "chunk_size = 64*20000"
   ]
  },
  {
   "cell_type": "code",
   "execution_count": 5,
   "metadata": {
    "collapsed": false
   },
   "outputs": [
    {
     "data": {
      "text/plain": [
       "5168"
      ]
     },
     "execution_count": 5,
     "metadata": {},
     "output_type": "execute_result"
    }
   ],
   "source": [
    "fid.seek(5168)"
   ]
  },
  {
   "cell_type": "code",
   "execution_count": 6,
   "metadata": {
    "collapsed": true
   },
   "outputs": [],
   "source": [
    "data = fid.read(chunk_size*2)"
   ]
  },
  {
   "cell_type": "code",
   "execution_count": 7,
   "metadata": {
    "collapsed": true
   },
   "outputs": [],
   "source": [
    "pd = fromstring(data, '<H')"
   ]
  },
  {
   "cell_type": "code",
   "execution_count": 8,
   "metadata": {
    "collapsed": true
   },
   "outputs": [],
   "source": [
    "pd = pd.reshape(20000,64)"
   ]
  },
  {
   "cell_type": "code",
   "execution_count": 9,
   "metadata": {
    "collapsed": false
   },
   "outputs": [
    {
     "data": {
      "text/plain": [
       "[<matplotlib.lines.Line2D at 0x108f30588>]"
      ]
     },
     "execution_count": 9,
     "metadata": {},
     "output_type": "execute_result"
    },
    {
     "data": {
      "image/png": "[encoded data removed]",
      "text/plain": [
       "<matplotlib.figure.Figure at 0x1089ee748>"
      ]
     },
     "metadata": {},
     "output_type": "display_data"
    }
   ],
   "source": [
    "plot(pd[:,0])"
   ]
  },
  {
   "cell_type": "markdown",
   "metadata": {},
   "source": [
    "output some of the values"
   ]
  },
  {
   "cell_type": "code",
   "execution_count": 10,
   "metadata": {
    "collapsed": false
   },
   "outputs": [
    {
     "data": {
      "text/plain": [
       "array([ 357,  354,  361,  366,  377,  388,  398,  499,  724, 1004], dtype=uint16)"
      ]
     },
     "execution_count": 10,
     "metadata": {},
     "output_type": "execute_result"
    }
   ],
   "source": [
    "pd[:10,0]"
   ]
  },
  {
   "cell_type": "code",
   "execution_count": 11,
   "metadata": {
    "collapsed": false
   },
   "outputs": [
    {
     "data": {
      "text/plain": [
       "b'e\\x01'"
      ]
     },
     "execution_count": 11,
     "metadata": {},
     "output_type": "execute_result"
    }
   ],
   "source": [
    "data[:2]"
   ]
  },
  {
   "cell_type": "code",
   "execution_count": 12,
   "metadata": {
    "collapsed": false
   },
   "outputs": [
    {
     "name": "stdout",
     "output_type": "stream",
     "text": [
      "101 1 b'e\\x01'\n"
     ]
    }
   ],
   "source": [
    "print(data[0], data[1], data[:2])"
   ]
  },
  {
   "cell_type": "code",
   "execution_count": 14,
   "metadata": {
    "collapsed": true
   },
   "outputs": [],
   "source": [
    "a=[1,2,3]"
   ]
  },
  {
   "cell_type": "code",
   "execution_count": 15,
   "metadata": {
    "collapsed": false
   },
   "outputs": [
    {
     "data": {
      "text/plain": [
       "b'\\x01\\x02\\x03'"
      ]
     },
     "execution_count": 15,
     "metadata": {},
     "output_type": "execute_result"
    }
   ],
   "source": [
    "bytes(a)"
   ]
  },
  {
   "cell_type": "code",
   "execution_count": 49,
   "metadata": {
    "collapsed": false
   },
   "outputs": [],
   "source": [
    "def writeChunk(fid, chunk, channelsN):\n",
    "    '''\n",
    "    chunk is a bytes string, each number is represented by two bytes and they are in interleaved format\n",
    "    I want to write first all data for channel0, then all data for channel1 and so forth.\n",
    "    \n",
    "    fid:       output of open, a file object\n",
    "    chunk:     a string of bytes objects\n",
    "    channelsN: number of channels in chunk\n",
    "    '''\n",
    "    \n",
    "    # I'm going to loop through the output file, inserting 2 bytes at a time of data\n",
    "    # from 'chunk'\n",
    "    channel_samples = len(chunk)//2//channelsN;\n",
    "    for ch in range(channelsN):\n",
    "        channel_start = 2 * channel_samples * ch\n",
    "        for j in range(channel_samples):\n",
    "#            print(ch*2 + j*2*channelsN, ch*2+j*2*channelsN+1)\n",
    "            fid.write(chunk[ch*2 + j*2*channelsN: ch*2 + j*2*channelsN+2])\n",
    "\n"
   ]
  },
  {
   "cell_type": "code",
   "execution_count": 50,
   "metadata": {
    "collapsed": true
   },
   "outputs": [],
   "source": [
    "def reshape_data(header_in, FIFO_in, f_out):\n",
    "    mea = meaRecording.MEA(header_in)\n",
    "    mea.writeHeader(f_out)\n",
    "    \n",
    "    out_fid = open(f_out, 'ab')\n",
    "    fifo_fid = open(FIFO_in, 'rb')\n",
    "    \n",
    "    channelsN = len(mea.whichChan)\n",
    "    chunk_size = channelsN * mea.blockSize\n",
    "    \n",
    "    pdb.set_trace()\n",
    "    i=0\n",
    "    while True:\n",
    "        chunk = fifo_fid.read(chunk_size * 2)\n",
    "        \n",
    "        if len(chunk) < chunk_size*2:\n",
    "            break\n",
    "        \n",
    "        print(\"about to write chunk: \", i)\n",
    "        writeChunk(out_fid, chunk, channelsN)\n",
    "        i+=1"
   ]
  },
  {
   "cell_type": "code",
   "execution_count": 51,
   "metadata": {
    "collapsed": false
   },
   "outputs": [
    {
     "name": "stdout",
     "output_type": "stream",
     "text": [
      "> <ipython-input-50-22379a590f9c>(12)reshape_data()\n",
      "-> i=0\n",
      "(Pdb) n\n",
      "> <ipython-input-50-22379a590f9c>(13)reshape_data()\n",
      "-> while True:\n",
      "(Pdb) \n",
      "> <ipython-input-50-22379a590f9c>(14)reshape_data()\n",
      "-> chunk = fifo_fid.read(chunk_size * 2)\n",
      "(Pdb) \n",
      "> <ipython-input-50-22379a590f9c>(16)reshape_data()\n",
      "-> if len(chunk) < chunk_size*2:\n",
      "(Pdb) \n",
      "> <ipython-input-50-22379a590f9c>(19)reshape_data()\n",
      "-> print(\"about to write chunk: \", i)\n",
      "(Pdb) \n",
      "about to write chunk:  0\n",
      "> <ipython-input-50-22379a590f9c>(20)reshape_data()\n",
      "-> writeChunk(out_fid, chunk, channelsN)\n",
      "(Pdb) \n",
      "> <ipython-input-50-22379a590f9c>(21)reshape_data()\n",
      "-> i+=1\n",
      "(Pdb) \n",
      "> <ipython-input-50-22379a590f9c>(14)reshape_data()\n",
      "-> chunk = fifo_fid.read(chunk_size * 2)\n",
      "(Pdb) \n",
      "> <ipython-input-50-22379a590f9c>(16)reshape_data()\n",
      "-> if len(chunk) < chunk_size*2:\n",
      "(Pdb) \n",
      "> <ipython-input-50-22379a590f9c>(19)reshape_data()\n",
      "-> print(\"about to write chunk: \", i)\n",
      "(Pdb) \n",
      "about to write chunk:  1\n",
      "> <ipython-input-50-22379a590f9c>(20)reshape_data()\n",
      "-> writeChunk(out_fid, chunk, channelsN)\n",
      "(Pdb) \n",
      "> <ipython-input-50-22379a590f9c>(21)reshape_data()\n",
      "-> i+=1\n",
      "(Pdb) c\n",
      "about to write chunk:  2\n",
      "about to write chunk:  3\n"
     ]
    }
   ],
   "source": [
    "reshape_data('150326.bin', '150326_FIFO', 'test')\n"
   ]
  },
  {
   "cell_type": "code",
   "execution_count": null,
   "metadata": {
    "collapsed": true
   },
   "outputs": [],
   "source": [
    "fid2 = open('test', 'rb')\n"
   ]
  },
  {
   "cell_type": "markdown",
   "metadata": {},
   "source": [
    "Read first 4-bytes from header"
   ]
  },
  {
   "cell_type": "code",
   "execution_count": 53,
   "metadata": {
    "collapsed": false
   },
   "outputs": [
    {
     "name": "stdout",
     "output_type": "stream",
     "text": [
      "[216]\n"
     ]
    }
   ],
   "source": [
    "fid = open('150326.bin', 'rb')\n",
    "a = fid.read(4)\n",
    "headerSize = fromstring(a, '>I')\n",
    "print(headerSize)\n",
    "fid.close()"
   ]
  },
  {
   "cell_type": "markdown",
   "metadata": {},
   "source": [
    "write a to file"
   ]
  },
  {
   "cell_type": "code",
   "execution_count": 55,
   "metadata": {
    "collapsed": true
   },
   "outputs": [],
   "source": [
    "fid = open('test', 'wb')\n",
    "fid.write(a)\n",
    "fid.close()"
   ]
  },
  {
   "cell_type": "markdown",
   "metadata": {},
   "source": [
    "read a back from test"
   ]
  },
  {
   "cell_type": "code",
   "execution_count": 56,
   "metadata": {
    "collapsed": false
   },
   "outputs": [
    {
     "name": "stdout",
     "output_type": "stream",
     "text": [
      "b'\\x00\\x00\\x00\\xd8'\n",
      "[216]\n"
     ]
    },
    {
     "data": {
      "text/plain": [
       "<function BufferedReader.close>"
      ]
     },
     "execution_count": 56,
     "metadata": {},
     "output_type": "execute_result"
    }
   ],
   "source": [
    "fid = open('test', 'rb')\n",
    "a = fid.read(4)\n",
    "print(a)\n",
    "print(fromstring(a, '>I'))\n",
    "fid.close"
   ]
  },
  {
   "cell_type": "code",
   "execution_count": 70,
   "metadata": {
    "collapsed": false
   },
   "outputs": [],
   "source": [
    "def mytest():\n",
    "    n = 10\n",
    "    # read data after header\n",
    "    fid = open('150326_FIFO', 'rb')\n",
    "    fid.seek(5168)\n",
    "    a = fid.read(2*n)\n",
    "    headerSize = fromstring(a, '<H')\n",
    "    print(\"original data\")\n",
    "    print(a)\n",
    "    print(headerSize)\n",
    "    fid.close()\n",
    "    \n",
    "    # write data to test files\n",
    "    fid = open('test', 'wb')\n",
    "    print(\"writing to file: \", a)\n",
    "    fid.write(a)\n",
    "    fid.close()\n",
    "\n",
    "    # read written data again\n",
    "    fid = open('test', 'rb')\n",
    "    a = fid.read(2*n)\n",
    "    print(a)\n",
    "    print(fromstring(a, '<H'))\n",
    "    fid.close"
   ]
  },
  {
   "cell_type": "code",
   "execution_count": 71,
   "metadata": {
    "collapsed": false
   },
   "outputs": [
    {
     "name": "stdout",
     "output_type": "stream",
     "text": [
      "original data\n",
      "b'e\\x01\\xb7\\xff\\xb3\\xff\\xc0\\xff\\x1b\\x02\\xa2\\x02;\\x03\\x89\\x03A\\x042\\x04'\n",
      "[  357 65463 65459 65472   539   674   827   905  1089  1074]\n",
      "writing to file:  b'e\\x01\\xb7\\xff\\xb3\\xff\\xc0\\xff\\x1b\\x02\\xa2\\x02;\\x03\\x89\\x03A\\x042\\x04'\n",
      "b'e\\x01\\xb7\\xff\\xb3\\xff\\xc0\\xff\\x1b\\x02\\xa2\\x02;\\x03\\x89\\x03A\\x042\\x04'\n",
      "[  357 65463 65459 65472   539   674   827   905  1089  1074]\n"
     ]
    }
   ],
   "source": [
    "mytest()"
   ]
  },
  {
   "cell_type": "code",
   "execution_count": 72,
   "metadata": {
    "collapsed": false
   },
   "outputs": [
    {
     "data": {
      "text/plain": [
       "5168"
      ]
     },
     "execution_count": 72,
     "metadata": {},
     "output_type": "execute_result"
    }
   ],
   "source": [
    "76*64+304"
   ]
  },
  {
   "cell_type": "code",
   "execution_count": null,
   "metadata": {
    "collapsed": true
   },
   "outputs": [],
   "source": []
  }
 ],
 "metadata": {
  "kernelspec": {
   "display_name": "Python 3",
   "language": "python",
   "name": "python3"
  },
  "language_info": {
   "codemirror_mode": {
    "name": "ipython",
    "version": 3
   },
   "file_extension": ".py",
   "mimetype": "text/x-python",
   "name": "python",
   "nbconvert_exporter": "python",
   "pygments_lexer": "ipython3",
   "version": "3.4.3"
  }
 },
 "nbformat": 4,
 "nbformat_minor": 0
}
